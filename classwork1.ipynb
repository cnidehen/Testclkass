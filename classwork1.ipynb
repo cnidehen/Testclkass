{
 "cells": [
  {
   "cell_type": "code",
   "execution_count": 1,
   "id": "612799f7",
   "metadata": {},
   "outputs": [],
   "source": [
    "import pandas as pd\n",
    "import matplotlib.pyplot as plt"
   ]
  },
  {
   "cell_type": "code",
   "execution_count": 2,
   "id": "d3a85175",
   "metadata": {},
   "outputs": [],
   "source": [
    "# Read the datasets into pandas DataFrames\n",
    "df_21_22 = pd.read_csv('https://data.sa.gov.au/data/dataset/860126f7-eeb5-4fbc-be44-069aa0467d11/resource/97524896-b976-4ed1-a26b-70bdc8248832/download/2021-22-data-sa-crime-q1-q4.csv', index_col=0)\n",
    "df_20_21 = pd.read_csv('https://data.sa.gov.au/data/dataset/860126f7-eeb5-4fbc-be44-069aa0467d11/resource/e0b8d120-65e3-44e6-9e2e-aeb7aec59114/download/2020-21_data_sa_crime.csv', index_col=0)\n",
    "df_19_20 = pd.read_csv('https://data.sa.gov.au/data/dataset/860126f7-eeb5-4fbc-be44-069aa0467d11/resource/590083cd-be2f-4a6c-871e-0ec4c717717b/download/2019-20-fullyr-data_sa_crime.csv', index_col=0)\n",
    "df_18_19 = pd.read_csv('https://data.sa.gov.au/data/dataset/860126f7-eeb5-4fbc-be44-069aa0467d11/resource/809b11dd-9944-4406-a0c4-af6a5b332177/download/2018-19-data_sa_crime.csv', index_col=0)\n",
    "df_17_18 = pd.read_csv('https://data.sa.gov.au/data/dataset/860126f7-eeb5-4fbc-be44-069aa0467d11/resource/bf604730-9ec8-44dd-88a3-f024b387e0e4/download/2017-18-data_sa_crime.csv', index_col=0)\n",
    "df_16_17 = pd.read_csv('https://data.sa.gov.au/data/dataset/860126f7-eeb5-4fbc-be44-069aa0467d11/resource/9eb63b08-c300-49c5-b6ef-ecb0945008b5/download/2016-17-data_sa_crime.csv', index_col=0)\n",
    "df_15_16 = pd.read_csv('https://data.sa.gov.au/data/dataset/860126f7-eeb5-4fbc-be44-069aa0467d11/resource/19beeceb-a870-4424-b533-43c774bcb03e/download/2015-16-data_sa_crime.csv', index_col=0)\n",
    "df_14_15 = pd.read_csv('https://data.sa.gov.au/data/dataset/860126f7-eeb5-4fbc-be44-069aa0467d11/resource/49ff5a8b-6e68-4f53-861a-085055999fcf/download/2014-15-data_sa_crime.csv', index_col=0)\n",
    "df_13_14 = pd.read_csv('https://data.sa.gov.au/data/dataset/860126f7-eeb5-4fbc-be44-069aa0467d11/resource/e4a20c4d-7462-4ce2-95c9-b288f5634f62/download/2013-14-data_sa_crime.csv', index_col=0)\n",
    "\n"
   ]
  },
  {
   "cell_type": "code",
   "execution_count": 52,
   "id": "b0fa5fec",
   "metadata": {},
   "outputs": [],
   "source": [
    "# Concatenate all DataFrames into a single DataFrame\n",
    "df_combined = pd.concat([df_21_22, df_20_21, df_19_20, df_18_19, df_17_18, df_16_17, df_15_16, df_14_15, df_13_14])"
   ]
  },
  {
   "cell_type": "code",
   "execution_count": 53,
   "id": "903e4d78",
   "metadata": {},
   "outputs": [],
   "source": [
    "# Calculate the total crime count for each suburb\n",
    "suburb_crime_counts = df_combined['Suburb - Incident'].value_counts()"
   ]
  },
  {
   "cell_type": "code",
   "execution_count": 54,
   "id": "56456953",
   "metadata": {},
   "outputs": [],
   "source": [
    "# Get the suburb with the highest crime count\n",
    "suburb_with_highest_crime = suburb_crime_counts.idxmax()"
   ]
  },
  {
   "cell_type": "code",
   "execution_count": 38,
   "id": "47f10fc6",
   "metadata": {},
   "outputs": [
    {
     "name": "stdout",
     "output_type": "stream",
     "text": [
      "Index(['Suburb - Incident', 'Postcode - Incident',\n",
      "       'Offence Level 1 Description', 'Offence Level 2 Description',\n",
      "       'Offence Level 3 Description', 'Offence count'],\n",
      "      dtype='object')\n"
     ]
    }
   ],
   "source": [
    "print(df.columns)"
   ]
  },
  {
   "cell_type": "code",
   "execution_count": 55,
   "id": "36ac5434",
   "metadata": {},
   "outputs": [
    {
     "name": "stdout",
     "output_type": "stream",
     "text": [
      "Suburb with the highest crime: ADELAIDE\n"
     ]
    }
   ],
   "source": [
    "print(\"Suburb with the highest crime:\", suburb_with_highest_crime)"
   ]
  }
 ],
 "metadata": {
  "kernelspec": {
   "display_name": "Python 3 (ipykernel)",
   "language": "python",
   "name": "python3"
  },
  "language_info": {
   "codemirror_mode": {
    "name": "ipython",
    "version": 3
   },
   "file_extension": ".py",
   "mimetype": "text/x-python",
   "name": "python",
   "nbconvert_exporter": "python",
   "pygments_lexer": "ipython3",
   "version": "3.10.9"
  }
 },
 "nbformat": 4,
 "nbformat_minor": 5
}
